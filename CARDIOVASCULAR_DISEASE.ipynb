{
  "nbformat": 4,
  "nbformat_minor": 0,
  "metadata": {
    "colab": {
      "name": "CARDIOVASCULAR DISEASE.ipynb",
      "provenance": [],
      "collapsed_sections": [],
      "authorship_tag": "ABX9TyOQlFKvobzl8IRF5NLUksGh",
      "include_colab_link": true
    },
    "kernelspec": {
      "name": "python3",
      "display_name": "Python 3"
    },
    "language_info": {
      "name": "python"
    }
  },
  "cells": [
    {
      "cell_type": "markdown",
      "metadata": {
        "id": "view-in-github",
        "colab_type": "text"
      },
      "source": [
        "<a href=\"https://colab.research.google.com/github/en-genius/Datascience/blob/main/CARDIOVASCULAR_DISEASE.ipynb\" target=\"_parent\"><img src=\"https://colab.research.google.com/assets/colab-badge.svg\" alt=\"Open In Colab\"/></a>"
      ]
    },
    {
      "cell_type": "markdown",
      "source": [
        "###<center>CARDIOVASCULAR DISEASE DATASCIENCE PROJECT</center>"
      ],
      "metadata": {
        "id": "ibawXnGpD_vH"
      }
    },
    {
      "cell_type": "markdown",
      "source": [
        "###OBJECTIVE\n",
        "The objective of this datascience project is to develop a machine learning model that can predict the likelihood of cardiovascular disease given certain parameters. The dataset was obtained from https://www.kaggle.com/datasets/sulianova/cardiovascular-disease-dataset\n",
        "\n",
        "###BACKGROUND\n",
        "Cardiovascular disease refers to disorders affecting the heart and blood vessels.According to the World Health Organization, cardiovascular diseases are the leading cause of death world wide with an average of 17.5mllion deaths annually.\n",
        "\n",
        "Identifying those at high risk and initiating treatment and/or lifestyle modification is crucial to preventing premature death."
      ],
      "metadata": {
        "id": "-zGkvWWSEOec"
      }
    },
    {
      "cell_type": "markdown",
      "source": [
        "##TABLE OF CONTENT\n",
        "\n",
        "1.   Importing the prerequisite modules\n",
        "2.   Loading the dataset into a dataframe\n",
        "3.   Exploratory data analysis  \n",
        "4.   Data visualization\n",
        "5.   Data preprocessing \n",
        "6.   Modelling\n",
        "7.   Evaluation\n",
        "8.   Conclusion\n"
      ],
      "metadata": {
        "id": "LQhdtu3-FJ_P"
      }
    },
    {
      "cell_type": "markdown",
      "source": [
        "##Import the prerequisite python modules"
      ],
      "metadata": {
        "id": "GhSnqxW0FLpy"
      }
    },
    {
      "cell_type": "code",
      "source": [
        "from google.colab import drive\n",
        "drive.mount('/content/drive/')\n",
        "import zipfile\n",
        "import pandas as pd\n",
        "import numpy as np\n",
        "import math\n",
        "import matplotlib.pyplot as plt\n",
        "import seaborn as sns\n",
        "from scipy import stats\n",
        "from scipy.stats import ttest_ind\n",
        "from sklearn.compose import ColumnTransformer\n",
        "from sklearn.pipeline import Pipeline\n",
        "from sklearn.preprocessing import StandardScaler\n",
        "from sklearn.preprocessing import OneHotEncoder\n",
        "from sklearn.model_selection import train_test_split\n",
        "from sklearn.model_selection import GridSearchCV\n",
        "from sklearn.ensemble import RandomForestClassifier\n",
        "from sklearn.metrics import confusion_matrix\n",
        "from sklearn.metrics import classification_report\n",
      ],
      "metadata": {
        "colab": {
          "base_uri": "https://localhost:8080/"
        },
        "id": "W-5erle2GQdj",
        "outputId": "9734a878-0082-4d72-f379-74fdd557c618"
      },
      "execution_count": 23,
      "outputs": [
        {
          "output_type": "stream",
          "name": "stdout",
          "text": [
            "Drive already mounted at /content/drive/; to attempt to forcibly remount, call drive.mount(\"/content/drive/\", force_remount=True).\n"
          ]
        }
      ]
    },
    {
      "cell_type": "markdown",
      "source": [
        "##Load the dataset into the dataframe\n"
      ],
      "metadata": {
        "id": "5C1ZkJIhFRq-"
      }
    },
    {
      "cell_type": "code",
      "source": [
        "zip_ref = zipfile.ZipFile(\"/content/drive/MyDrive/cardiovascular disease.zip\", 'r')\n",
        "zip_ref.extractall(\"/content/drive/MyDrive/cardiovascular disease\")\n",
        "zip_ref.close()\n",
        "df = pd.read_csv('/content/drive/MyDrive/cardiovascular disease/cardio_train.csv', sep=';')\n",
        "df.head()"
      ],
      "metadata": {
        "colab": {
          "base_uri": "https://localhost:8080/",
          "height": 206
        },
        "id": "RshpAdAtUXOV",
        "outputId": "1c187e22-0e99-40da-f90a-eb68d163a9c1"
      },
      "execution_count": 24,
      "outputs": [
        {
          "output_type": "execute_result",
          "data": {
            "text/plain": [
              "   id    age  gender  height  weight  ap_hi  ap_lo  cholesterol  gluc  smoke  \\\n",
              "0   0  18393       2     168    62.0    110     80            1     1      0   \n",
              "1   1  20228       1     156    85.0    140     90            3     1      0   \n",
              "2   2  18857       1     165    64.0    130     70            3     1      0   \n",
              "3   3  17623       2     169    82.0    150    100            1     1      0   \n",
              "4   4  17474       1     156    56.0    100     60            1     1      0   \n",
              "\n",
              "   alco  active  cardio  \n",
              "0     0       1       0  \n",
              "1     0       1       1  \n",
              "2     0       0       1  \n",
              "3     0       1       1  \n",
              "4     0       0       0  "
            ],
            "text/html": [
              "\n",
              "  <div id=\"df-d5a1cd8f-dcc7-4010-bcb6-19829f86737e\">\n",
              "    <div class=\"colab-df-container\">\n",
              "      <div>\n",
              "<style scoped>\n",
              "    .dataframe tbody tr th:only-of-type {\n",
              "        vertical-align: middle;\n",
              "    }\n",
              "\n",
              "    .dataframe tbody tr th {\n",
              "        vertical-align: top;\n",
              "    }\n",
              "\n",
              "    .dataframe thead th {\n",
              "        text-align: right;\n",
              "    }\n",
              "</style>\n",
              "<table border=\"1\" class=\"dataframe\">\n",
              "  <thead>\n",
              "    <tr style=\"text-align: right;\">\n",
              "      <th></th>\n",
              "      <th>id</th>\n",
              "      <th>age</th>\n",
              "      <th>gender</th>\n",
              "      <th>height</th>\n",
              "      <th>weight</th>\n",
              "      <th>ap_hi</th>\n",
              "      <th>ap_lo</th>\n",
              "      <th>cholesterol</th>\n",
              "      <th>gluc</th>\n",
              "      <th>smoke</th>\n",
              "      <th>alco</th>\n",
              "      <th>active</th>\n",
              "      <th>cardio</th>\n",
              "    </tr>\n",
              "  </thead>\n",
              "  <tbody>\n",
              "    <tr>\n",
              "      <th>0</th>\n",
              "      <td>0</td>\n",
              "      <td>18393</td>\n",
              "      <td>2</td>\n",
              "      <td>168</td>\n",
              "      <td>62.0</td>\n",
              "      <td>110</td>\n",
              "      <td>80</td>\n",
              "      <td>1</td>\n",
              "      <td>1</td>\n",
              "      <td>0</td>\n",
              "      <td>0</td>\n",
              "      <td>1</td>\n",
              "      <td>0</td>\n",
              "    </tr>\n",
              "    <tr>\n",
              "      <th>1</th>\n",
              "      <td>1</td>\n",
              "      <td>20228</td>\n",
              "      <td>1</td>\n",
              "      <td>156</td>\n",
              "      <td>85.0</td>\n",
              "      <td>140</td>\n",
              "      <td>90</td>\n",
              "      <td>3</td>\n",
              "      <td>1</td>\n",
              "      <td>0</td>\n",
              "      <td>0</td>\n",
              "      <td>1</td>\n",
              "      <td>1</td>\n",
              "    </tr>\n",
              "    <tr>\n",
              "      <th>2</th>\n",
              "      <td>2</td>\n",
              "      <td>18857</td>\n",
              "      <td>1</td>\n",
              "      <td>165</td>\n",
              "      <td>64.0</td>\n",
              "      <td>130</td>\n",
              "      <td>70</td>\n",
              "      <td>3</td>\n",
              "      <td>1</td>\n",
              "      <td>0</td>\n",
              "      <td>0</td>\n",
              "      <td>0</td>\n",
              "      <td>1</td>\n",
              "    </tr>\n",
              "    <tr>\n",
              "      <th>3</th>\n",
              "      <td>3</td>\n",
              "      <td>17623</td>\n",
              "      <td>2</td>\n",
              "      <td>169</td>\n",
              "      <td>82.0</td>\n",
              "      <td>150</td>\n",
              "      <td>100</td>\n",
              "      <td>1</td>\n",
              "      <td>1</td>\n",
              "      <td>0</td>\n",
              "      <td>0</td>\n",
              "      <td>1</td>\n",
              "      <td>1</td>\n",
              "    </tr>\n",
              "    <tr>\n",
              "      <th>4</th>\n",
              "      <td>4</td>\n",
              "      <td>17474</td>\n",
              "      <td>1</td>\n",
              "      <td>156</td>\n",
              "      <td>56.0</td>\n",
              "      <td>100</td>\n",
              "      <td>60</td>\n",
              "      <td>1</td>\n",
              "      <td>1</td>\n",
              "      <td>0</td>\n",
              "      <td>0</td>\n",
              "      <td>0</td>\n",
              "      <td>0</td>\n",
              "    </tr>\n",
              "  </tbody>\n",
              "</table>\n",
              "</div>\n",
              "      <button class=\"colab-df-convert\" onclick=\"convertToInteractive('df-d5a1cd8f-dcc7-4010-bcb6-19829f86737e')\"\n",
              "              title=\"Convert this dataframe to an interactive table.\"\n",
              "              style=\"display:none;\">\n",
              "        \n",
              "  <svg xmlns=\"http://www.w3.org/2000/svg\" height=\"24px\"viewBox=\"0 0 24 24\"\n",
              "       width=\"24px\">\n",
              "    <path d=\"M0 0h24v24H0V0z\" fill=\"none\"/>\n",
              "    <path d=\"M18.56 5.44l.94 2.06.94-2.06 2.06-.94-2.06-.94-.94-2.06-.94 2.06-2.06.94zm-11 1L8.5 8.5l.94-2.06 2.06-.94-2.06-.94L8.5 2.5l-.94 2.06-2.06.94zm10 10l.94 2.06.94-2.06 2.06-.94-2.06-.94-.94-2.06-.94 2.06-2.06.94z\"/><path d=\"M17.41 7.96l-1.37-1.37c-.4-.4-.92-.59-1.43-.59-.52 0-1.04.2-1.43.59L10.3 9.45l-7.72 7.72c-.78.78-.78 2.05 0 2.83L4 21.41c.39.39.9.59 1.41.59.51 0 1.02-.2 1.41-.59l7.78-7.78 2.81-2.81c.8-.78.8-2.07 0-2.86zM5.41 20L4 18.59l7.72-7.72 1.47 1.35L5.41 20z\"/>\n",
              "  </svg>\n",
              "      </button>\n",
              "      \n",
              "  <style>\n",
              "    .colab-df-container {\n",
              "      display:flex;\n",
              "      flex-wrap:wrap;\n",
              "      gap: 12px;\n",
              "    }\n",
              "\n",
              "    .colab-df-convert {\n",
              "      background-color: #E8F0FE;\n",
              "      border: none;\n",
              "      border-radius: 50%;\n",
              "      cursor: pointer;\n",
              "      display: none;\n",
              "      fill: #1967D2;\n",
              "      height: 32px;\n",
              "      padding: 0 0 0 0;\n",
              "      width: 32px;\n",
              "    }\n",
              "\n",
              "    .colab-df-convert:hover {\n",
              "      background-color: #E2EBFA;\n",
              "      box-shadow: 0px 1px 2px rgba(60, 64, 67, 0.3), 0px 1px 3px 1px rgba(60, 64, 67, 0.15);\n",
              "      fill: #174EA6;\n",
              "    }\n",
              "\n",
              "    [theme=dark] .colab-df-convert {\n",
              "      background-color: #3B4455;\n",
              "      fill: #D2E3FC;\n",
              "    }\n",
              "\n",
              "    [theme=dark] .colab-df-convert:hover {\n",
              "      background-color: #434B5C;\n",
              "      box-shadow: 0px 1px 3px 1px rgba(0, 0, 0, 0.15);\n",
              "      filter: drop-shadow(0px 1px 2px rgba(0, 0, 0, 0.3));\n",
              "      fill: #FFFFFF;\n",
              "    }\n",
              "  </style>\n",
              "\n",
              "      <script>\n",
              "        const buttonEl =\n",
              "          document.querySelector('#df-d5a1cd8f-dcc7-4010-bcb6-19829f86737e button.colab-df-convert');\n",
              "        buttonEl.style.display =\n",
              "          google.colab.kernel.accessAllowed ? 'block' : 'none';\n",
              "\n",
              "        async function convertToInteractive(key) {\n",
              "          const element = document.querySelector('#df-d5a1cd8f-dcc7-4010-bcb6-19829f86737e');\n",
              "          const dataTable =\n",
              "            await google.colab.kernel.invokeFunction('convertToInteractive',\n",
              "                                                     [key], {});\n",
              "          if (!dataTable) return;\n",
              "\n",
              "          const docLinkHtml = 'Like what you see? Visit the ' +\n",
              "            '<a target=\"_blank\" href=https://colab.research.google.com/notebooks/data_table.ipynb>data table notebook</a>'\n",
              "            + ' to learn more about interactive tables.';\n",
              "          element.innerHTML = '';\n",
              "          dataTable['output_type'] = 'display_data';\n",
              "          await google.colab.output.renderOutput(dataTable, element);\n",
              "          const docLink = document.createElement('div');\n",
              "          docLink.innerHTML = docLinkHtml;\n",
              "          element.appendChild(docLink);\n",
              "        }\n",
              "      </script>\n",
              "    </div>\n",
              "  </div>\n",
              "  "
            ]
          },
          "metadata": {},
          "execution_count": 24
        }
      ]
    },
    {
      "cell_type": "markdown",
      "source": [
        "##Exploratory Data Analysis"
      ],
      "metadata": {
        "id": "JbArE5CZFRnn"
      }
    },
    {
      "cell_type": "code",
      "source": [
        "## Converting the attributes of the dataset into a list\n",
        "df_array = []\n",
        "for i in df.columns:\n",
        "  df_array.append(i)\n",
        "\n",
        "print(df_array)"
      ],
      "metadata": {
        "colab": {
          "base_uri": "https://localhost:8080/"
        },
        "id": "47TDRCsdWGaz",
        "outputId": "75eddb05-687f-4dbe-bb72-75e1ae1b35da"
      },
      "execution_count": 25,
      "outputs": [
        {
          "output_type": "stream",
          "name": "stdout",
          "text": [
            "['id', 'age', 'gender', 'height', 'weight', 'ap_hi', 'ap_lo', 'cholesterol', 'gluc', 'smoke', 'alco', 'active', 'cardio']\n"
          ]
        }
      ]
    },
    {
      "cell_type": "code",
      "source": [
        "##Getting the shape of the data\n",
        "print('The length of the features of the dataset:', df.shape[1])\n",
        "print('The total number of entries recorded: ', df.shape[0])"
      ],
      "metadata": {
        "colab": {
          "base_uri": "https://localhost:8080/"
        },
        "id": "sp58D1yrWK32",
        "outputId": "fe53fffa-c1b0-47bc-a83b-42cbacfffdd9"
      },
      "execution_count": 26,
      "outputs": [
        {
          "output_type": "stream",
          "name": "stdout",
          "text": [
            "The length of the features of the dataset: 13\n",
            "The total number of entries recorded:  70000\n"
          ]
        }
      ]
    },
    {
      "cell_type": "code",
      "source": [
        "#Renaming the headers to easily identifiable titles\n",
        "df.rename({'ap_hi':'systolic_bp', 'ap_lo':'diastolic_bp', 'gluc':'glucose',\n",
        "           'alco':'alcohol', 'active':'physical_activity','cardio':'cardiovascular_disease' }, axis=1, inplace=True)\n",
        "\n",
        "df.columns"
      ],
      "metadata": {
        "colab": {
          "base_uri": "https://localhost:8080/"
        },
        "id": "TY2wjFpI37hd",
        "outputId": "7c4f78e2-4296-40f7-ce39-27ec534dce97"
      },
      "execution_count": 27,
      "outputs": [
        {
          "output_type": "execute_result",
          "data": {
            "text/plain": [
              "Index(['id', 'age', 'gender', 'height', 'weight', 'systolic_bp',\n",
              "       'diastolic_bp', 'cholesterol', 'glucose', 'smoke', 'alcohol',\n",
              "       'physical_activity', 'cardiovascular_disease'],\n",
              "      dtype='object')"
            ]
          },
          "metadata": {},
          "execution_count": 27
        }
      ]
    },
    {
      "cell_type": "code",
      "source": [
        "df.info()"
      ],
      "metadata": {
        "colab": {
          "base_uri": "https://localhost:8080/"
        },
        "id": "3hCEaBZX3WLj",
        "outputId": "17a079b9-e038-4af9-895b-7d6b86cd140c"
      },
      "execution_count": 28,
      "outputs": [
        {
          "output_type": "stream",
          "name": "stdout",
          "text": [
            "<class 'pandas.core.frame.DataFrame'>\n",
            "RangeIndex: 70000 entries, 0 to 69999\n",
            "Data columns (total 13 columns):\n",
            " #   Column                  Non-Null Count  Dtype  \n",
            "---  ------                  --------------  -----  \n",
            " 0   id                      70000 non-null  int64  \n",
            " 1   age                     70000 non-null  int64  \n",
            " 2   gender                  70000 non-null  int64  \n",
            " 3   height                  70000 non-null  int64  \n",
            " 4   weight                  70000 non-null  float64\n",
            " 5   systolic_bp             70000 non-null  int64  \n",
            " 6   diastolic_bp            70000 non-null  int64  \n",
            " 7   cholesterol             70000 non-null  int64  \n",
            " 8   glucose                 70000 non-null  int64  \n",
            " 9   smoke                   70000 non-null  int64  \n",
            " 10  alcohol                 70000 non-null  int64  \n",
            " 11  physical_activity       70000 non-null  int64  \n",
            " 12  cardiovascular_disease  70000 non-null  int64  \n",
            "dtypes: float64(1), int64(12)\n",
            "memory usage: 6.9 MB\n"
          ]
        }
      ]
    },
    {
      "cell_type": "code",
      "source": [
        "#NB: There are several columns with categorial inputs\n",
        "#On inspection of the dataset, it appears that gender, smoke,alcohol, physical_activity and cardiovascular_disease were represented with integers instead of strings during data collection.\n",
        "def CastToString(v):\n",
        "  return str(v)\n",
        "\n",
        "df.smoke = df.smoke.apply(CastToString)\n",
        "df.alcohol = df.alcohol.apply(CastToString)\n",
        "df.physical_activity = df.physical_activity.apply(CastToString)\n",
        "df.cardiovascular_disease = df.cardiovascular_disease.apply(CastToString)\n",
        "df.gender = df.gender.apply(CastToString)\n"
      ],
      "metadata": {
        "id": "UAk99j2X4XbF"
      },
      "execution_count": 29,
      "outputs": []
    },
    {
      "cell_type": "code",
      "source": [
        "#Converting the age in the dataset from days to years.\n",
        "def ConvertToYears(age):\n",
        "  return math.floor(age / 365)\n",
        "df.age = df.age.apply(ConvertToYears)"
      ],
      "metadata": {
        "id": "u-CWS7fJ4_yH"
      },
      "execution_count": 30,
      "outputs": []
    },
    {
      "cell_type": "code",
      "source": [
        "#Summarize the data using measures of central tendency and dispersion\n",
        "df.describe()"
      ],
      "metadata": {
        "colab": {
          "base_uri": "https://localhost:8080/",
          "height": 344
        },
        "id": "k8ojK0t33WVF",
        "outputId": "2901fc89-eb9a-42ff-f9c5-1317874c0022"
      },
      "execution_count": 31,
      "outputs": [
        {
          "output_type": "execute_result",
          "data": {
            "text/plain": [
              "                 id           age        height        weight   systolic_bp  \\\n",
              "count  70000.000000  70000.000000  70000.000000  70000.000000  70000.000000   \n",
              "mean   49972.419900     52.840671    164.359229     74.205690    128.817286   \n",
              "std    28851.302323      6.766774      8.210126     14.395757    154.011419   \n",
              "min        0.000000     29.000000     55.000000     10.000000   -150.000000   \n",
              "25%    25006.750000     48.000000    159.000000     65.000000    120.000000   \n",
              "50%    50001.500000     53.000000    165.000000     72.000000    120.000000   \n",
              "75%    74889.250000     58.000000    170.000000     82.000000    140.000000   \n",
              "max    99999.000000     64.000000    250.000000    200.000000  16020.000000   \n",
              "\n",
              "       diastolic_bp   cholesterol       glucose  \n",
              "count  70000.000000  70000.000000  70000.000000  \n",
              "mean      96.630414      1.366871      1.226457  \n",
              "std      188.472530      0.680250      0.572270  \n",
              "min      -70.000000      1.000000      1.000000  \n",
              "25%       80.000000      1.000000      1.000000  \n",
              "50%       80.000000      1.000000      1.000000  \n",
              "75%       90.000000      2.000000      1.000000  \n",
              "max    11000.000000      3.000000      3.000000  "
            ],
            "text/html": [
              "\n",
              "  <div id=\"df-33cd05b1-fb67-48af-98b0-c8bbaf03491d\">\n",
              "    <div class=\"colab-df-container\">\n",
              "      <div>\n",
              "<style scoped>\n",
              "    .dataframe tbody tr th:only-of-type {\n",
              "        vertical-align: middle;\n",
              "    }\n",
              "\n",
              "    .dataframe tbody tr th {\n",
              "        vertical-align: top;\n",
              "    }\n",
              "\n",
              "    .dataframe thead th {\n",
              "        text-align: right;\n",
              "    }\n",
              "</style>\n",
              "<table border=\"1\" class=\"dataframe\">\n",
              "  <thead>\n",
              "    <tr style=\"text-align: right;\">\n",
              "      <th></th>\n",
              "      <th>id</th>\n",
              "      <th>age</th>\n",
              "      <th>height</th>\n",
              "      <th>weight</th>\n",
              "      <th>systolic_bp</th>\n",
              "      <th>diastolic_bp</th>\n",
              "      <th>cholesterol</th>\n",
              "      <th>glucose</th>\n",
              "    </tr>\n",
              "  </thead>\n",
              "  <tbody>\n",
              "    <tr>\n",
              "      <th>count</th>\n",
              "      <td>70000.000000</td>\n",
              "      <td>70000.000000</td>\n",
              "      <td>70000.000000</td>\n",
              "      <td>70000.000000</td>\n",
              "      <td>70000.000000</td>\n",
              "      <td>70000.000000</td>\n",
              "      <td>70000.000000</td>\n",
              "      <td>70000.000000</td>\n",
              "    </tr>\n",
              "    <tr>\n",
              "      <th>mean</th>\n",
              "      <td>49972.419900</td>\n",
              "      <td>52.840671</td>\n",
              "      <td>164.359229</td>\n",
              "      <td>74.205690</td>\n",
              "      <td>128.817286</td>\n",
              "      <td>96.630414</td>\n",
              "      <td>1.366871</td>\n",
              "      <td>1.226457</td>\n",
              "    </tr>\n",
              "    <tr>\n",
              "      <th>std</th>\n",
              "      <td>28851.302323</td>\n",
              "      <td>6.766774</td>\n",
              "      <td>8.210126</td>\n",
              "      <td>14.395757</td>\n",
              "      <td>154.011419</td>\n",
              "      <td>188.472530</td>\n",
              "      <td>0.680250</td>\n",
              "      <td>0.572270</td>\n",
              "    </tr>\n",
              "    <tr>\n",
              "      <th>min</th>\n",
              "      <td>0.000000</td>\n",
              "      <td>29.000000</td>\n",
              "      <td>55.000000</td>\n",
              "      <td>10.000000</td>\n",
              "      <td>-150.000000</td>\n",
              "      <td>-70.000000</td>\n",
              "      <td>1.000000</td>\n",
              "      <td>1.000000</td>\n",
              "    </tr>\n",
              "    <tr>\n",
              "      <th>25%</th>\n",
              "      <td>25006.750000</td>\n",
              "      <td>48.000000</td>\n",
              "      <td>159.000000</td>\n",
              "      <td>65.000000</td>\n",
              "      <td>120.000000</td>\n",
              "      <td>80.000000</td>\n",
              "      <td>1.000000</td>\n",
              "      <td>1.000000</td>\n",
              "    </tr>\n",
              "    <tr>\n",
              "      <th>50%</th>\n",
              "      <td>50001.500000</td>\n",
              "      <td>53.000000</td>\n",
              "      <td>165.000000</td>\n",
              "      <td>72.000000</td>\n",
              "      <td>120.000000</td>\n",
              "      <td>80.000000</td>\n",
              "      <td>1.000000</td>\n",
              "      <td>1.000000</td>\n",
              "    </tr>\n",
              "    <tr>\n",
              "      <th>75%</th>\n",
              "      <td>74889.250000</td>\n",
              "      <td>58.000000</td>\n",
              "      <td>170.000000</td>\n",
              "      <td>82.000000</td>\n",
              "      <td>140.000000</td>\n",
              "      <td>90.000000</td>\n",
              "      <td>2.000000</td>\n",
              "      <td>1.000000</td>\n",
              "    </tr>\n",
              "    <tr>\n",
              "      <th>max</th>\n",
              "      <td>99999.000000</td>\n",
              "      <td>64.000000</td>\n",
              "      <td>250.000000</td>\n",
              "      <td>200.000000</td>\n",
              "      <td>16020.000000</td>\n",
              "      <td>11000.000000</td>\n",
              "      <td>3.000000</td>\n",
              "      <td>3.000000</td>\n",
              "    </tr>\n",
              "  </tbody>\n",
              "</table>\n",
              "</div>\n",
              "      <button class=\"colab-df-convert\" onclick=\"convertToInteractive('df-33cd05b1-fb67-48af-98b0-c8bbaf03491d')\"\n",
              "              title=\"Convert this dataframe to an interactive table.\"\n",
              "              style=\"display:none;\">\n",
              "        \n",
              "  <svg xmlns=\"http://www.w3.org/2000/svg\" height=\"24px\"viewBox=\"0 0 24 24\"\n",
              "       width=\"24px\">\n",
              "    <path d=\"M0 0h24v24H0V0z\" fill=\"none\"/>\n",
              "    <path d=\"M18.56 5.44l.94 2.06.94-2.06 2.06-.94-2.06-.94-.94-2.06-.94 2.06-2.06.94zm-11 1L8.5 8.5l.94-2.06 2.06-.94-2.06-.94L8.5 2.5l-.94 2.06-2.06.94zm10 10l.94 2.06.94-2.06 2.06-.94-2.06-.94-.94-2.06-.94 2.06-2.06.94z\"/><path d=\"M17.41 7.96l-1.37-1.37c-.4-.4-.92-.59-1.43-.59-.52 0-1.04.2-1.43.59L10.3 9.45l-7.72 7.72c-.78.78-.78 2.05 0 2.83L4 21.41c.39.39.9.59 1.41.59.51 0 1.02-.2 1.41-.59l7.78-7.78 2.81-2.81c.8-.78.8-2.07 0-2.86zM5.41 20L4 18.59l7.72-7.72 1.47 1.35L5.41 20z\"/>\n",
              "  </svg>\n",
              "      </button>\n",
              "      \n",
              "  <style>\n",
              "    .colab-df-container {\n",
              "      display:flex;\n",
              "      flex-wrap:wrap;\n",
              "      gap: 12px;\n",
              "    }\n",
              "\n",
              "    .colab-df-convert {\n",
              "      background-color: #E8F0FE;\n",
              "      border: none;\n",
              "      border-radius: 50%;\n",
              "      cursor: pointer;\n",
              "      display: none;\n",
              "      fill: #1967D2;\n",
              "      height: 32px;\n",
              "      padding: 0 0 0 0;\n",
              "      width: 32px;\n",
              "    }\n",
              "\n",
              "    .colab-df-convert:hover {\n",
              "      background-color: #E2EBFA;\n",
              "      box-shadow: 0px 1px 2px rgba(60, 64, 67, 0.3), 0px 1px 3px 1px rgba(60, 64, 67, 0.15);\n",
              "      fill: #174EA6;\n",
              "    }\n",
              "\n",
              "    [theme=dark] .colab-df-convert {\n",
              "      background-color: #3B4455;\n",
              "      fill: #D2E3FC;\n",
              "    }\n",
              "\n",
              "    [theme=dark] .colab-df-convert:hover {\n",
              "      background-color: #434B5C;\n",
              "      box-shadow: 0px 1px 3px 1px rgba(0, 0, 0, 0.15);\n",
              "      filter: drop-shadow(0px 1px 2px rgba(0, 0, 0, 0.3));\n",
              "      fill: #FFFFFF;\n",
              "    }\n",
              "  </style>\n",
              "\n",
              "      <script>\n",
              "        const buttonEl =\n",
              "          document.querySelector('#df-33cd05b1-fb67-48af-98b0-c8bbaf03491d button.colab-df-convert');\n",
              "        buttonEl.style.display =\n",
              "          google.colab.kernel.accessAllowed ? 'block' : 'none';\n",
              "\n",
              "        async function convertToInteractive(key) {\n",
              "          const element = document.querySelector('#df-33cd05b1-fb67-48af-98b0-c8bbaf03491d');\n",
              "          const dataTable =\n",
              "            await google.colab.kernel.invokeFunction('convertToInteractive',\n",
              "                                                     [key], {});\n",
              "          if (!dataTable) return;\n",
              "\n",
              "          const docLinkHtml = 'Like what you see? Visit the ' +\n",
              "            '<a target=\"_blank\" href=https://colab.research.google.com/notebooks/data_table.ipynb>data table notebook</a>'\n",
              "            + ' to learn more about interactive tables.';\n",
              "          element.innerHTML = '';\n",
              "          dataTable['output_type'] = 'display_data';\n",
              "          await google.colab.output.renderOutput(dataTable, element);\n",
              "          const docLink = document.createElement('div');\n",
              "          docLink.innerHTML = docLinkHtml;\n",
              "          element.appendChild(docLink);\n",
              "        }\n",
              "      </script>\n",
              "    </div>\n",
              "  </div>\n",
              "  "
            ]
          },
          "metadata": {},
          "execution_count": 31
        }
      ]
    },
    {
      "cell_type": "code",
      "source": [
        "corr_matrix = df.corr()\n",
        "corr_matrix['age'].sort_values(ascending=False)"
      ],
      "metadata": {
        "colab": {
          "base_uri": "https://localhost:8080/"
        },
        "id": "_F1bZMaL7-uD",
        "outputId": "aacbba7b-4367-4394-fb77-bbf2bb2b2857"
      },
      "execution_count": 32,
      "outputs": [
        {
          "output_type": "execute_result",
          "data": {
            "text/plain": [
              "age             1.000000\n",
              "cholesterol     0.154012\n",
              "glucose         0.098388\n",
              "weight          0.053561\n",
              "systolic_bp     0.020854\n",
              "diastolic_bp    0.017620\n",
              "id              0.003814\n",
              "height         -0.081506\n",
              "Name: age, dtype: float64"
            ]
          },
          "metadata": {},
          "execution_count": 32
        }
      ]
    },
    {
      "cell_type": "code",
      "source": [
        "corr_matrix = df.corr()\n",
        "corr_matrix['glucose'].sort_values(ascending=False)"
      ],
      "metadata": {
        "colab": {
          "base_uri": "https://localhost:8080/"
        },
        "id": "9hS9oSZI7-4G",
        "outputId": "3ca8888f-7eec-442a-f365-b47b45a36c54"
      },
      "execution_count": 33,
      "outputs": [
        {
          "output_type": "execute_result",
          "data": {
            "text/plain": [
              "glucose         1.000000\n",
              "cholesterol     0.451578\n",
              "weight          0.106857\n",
              "age             0.098388\n",
              "systolic_bp     0.011841\n",
              "diastolic_bp    0.010806\n",
              "id              0.002467\n",
              "height         -0.018595\n",
              "Name: glucose, dtype: float64"
            ]
          },
          "metadata": {},
          "execution_count": 33
        }
      ]
    },
    {
      "cell_type": "code",
      "source": [
        "corr_matrix = df.corr()\n",
        "corr_matrix['weight'].sort_values(ascending=False)"
      ],
      "metadata": {
        "colab": {
          "base_uri": "https://localhost:8080/"
        },
        "id": "1hmrb_Mg8oKK",
        "outputId": "9e2a7ac4-901e-4b67-b6c0-03b5718ea662"
      },
      "execution_count": 34,
      "outputs": [
        {
          "output_type": "execute_result",
          "data": {
            "text/plain": [
              "weight          1.000000\n",
              "height          0.290968\n",
              "cholesterol     0.141768\n",
              "glucose         0.106857\n",
              "age             0.053561\n",
              "diastolic_bp    0.043710\n",
              "systolic_bp     0.030702\n",
              "id             -0.001830\n",
              "Name: weight, dtype: float64"
            ]
          },
          "metadata": {},
          "execution_count": 34
        }
      ]
    },
    {
      "cell_type": "markdown",
      "source": [
        "##Data Visualization\n"
      ],
      "metadata": {
        "id": "gj0WgpTUFRk5"
      }
    },
    {
      "cell_type": "code",
      "source": [
        "num_attributes = ['age','weight','height','cholesterol','glucose','diastolic_bp','systolic_bp']"
      ],
      "metadata": {
        "id": "xiOQjhaU81VE"
      },
      "execution_count": 35,
      "outputs": []
    },
    {
      "cell_type": "code",
      "source": [
        "#Summarizing the data using boxplot and histogram\n",
        "for attr in num_attributes:\n",
        " plt.subplot(2,1,1)\n",
        " df[attr].plot.hist()\n",
        " plt.subplot(2,1,2)\n",
        " df[attr].plot.box(vert=False)\n",
        " plt.tight_layout()\n",
        " plt.show()\n",
        " plt.savefig('{}.png'.format(attr), dpi=400)\n"
      ],
      "metadata": {
        "colab": {
          "base_uri": "https://localhost:8080/",
          "height": 1000
        },
        "id": "_HQl2XTr81lt",
        "outputId": "d88faf19-79fa-4d18-a909-bedef121f53f"
      },
      "execution_count": 36,
      "outputs": [
        {
          "output_type": "display_data",
          "data": {
            "text/plain": [
              "<Figure size 432x288 with 2 Axes>"
            ],
            "image/png": "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\n"
          },
          "metadata": {
            "needs_background": "light"
          }
        },
        {
          "output_type": "display_data",
          "data": {
            "text/plain": [
              "<Figure size 432x288 with 2 Axes>"
            ],
            "image/png": "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\n"
          },
          "metadata": {
            "needs_background": "light"
          }
        },
        {
          "output_type": "display_data",
          "data": {
            "text/plain": [
              "<Figure size 432x288 with 2 Axes>"
            ],
            "image/png": "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\n"
          },
          "metadata": {
            "needs_background": "light"
          }
        },
        {
          "output_type": "display_data",
          "data": {
            "text/plain": [
              "<Figure size 432x288 with 2 Axes>"
            ],
            "image/png": "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\n"
          },
          "metadata": {
            "needs_background": "light"
          }
        },
        {
          "output_type": "display_data",
          "data": {
            "text/plain": [
              "<Figure size 432x288 with 2 Axes>"
            ],
            "image/png": "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\n"
          },
          "metadata": {
            "needs_background": "light"
          }
        },
        {
          "output_type": "display_data",
          "data": {
            "text/plain": [
              "<Figure size 432x288 with 2 Axes>"
            ],
            "image/png": "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\n"
          },
          "metadata": {
            "needs_background": "light"
          }
        },
        {
          "output_type": "display_data",
          "data": {
            "text/plain": [
              "<Figure size 432x288 with 2 Axes>"
            ],
            "image/png": "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\n"
          },
          "metadata": {
            "needs_background": "light"
          }
        },
        {
          "output_type": "display_data",
          "data": {
            "text/plain": [
              "<Figure size 432x288 with 0 Axes>"
            ]
          },
          "metadata": {}
        }
      ]
    },
    {
      "cell_type": "markdown",
      "source": [
        "##Data Preprocessing"
      ],
      "metadata": {
        "id": "gnGMm87UFRib"
      }
    },
    {
      "cell_type": "code",
      "source": [
        "#NB: The dataset has class imbalance\n",
        "df['cardiovascular_disease'].value_counts().plot.barh()"
      ],
      "metadata": {
        "colab": {
          "base_uri": "https://localhost:8080/",
          "height": 282
        },
        "id": "Q4lNaB0xO7ti",
        "outputId": "3beabc79-bd7c-495c-ccc5-73ad4953762a"
      },
      "execution_count": 37,
      "outputs": [
        {
          "output_type": "execute_result",
          "data": {
            "text/plain": [
              "<matplotlib.axes._subplots.AxesSubplot at 0x7f2c68a78650>"
            ]
          },
          "metadata": {},
          "execution_count": 37
        },
        {
          "output_type": "display_data",
          "data": {
            "text/plain": [
              "<Figure size 432x288 with 1 Axes>"
            ],
            "image/png": "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\n"
          },
          "metadata": {
            "needs_background": "light"
          }
        }
      ]
    },
    {
      "cell_type": "code",
      "source": [
        "df['cardiovascular_disease'].value_counts()"
      ],
      "metadata": {
        "colab": {
          "base_uri": "https://localhost:8080/"
        },
        "id": "dbtKEzDjPWl3",
        "outputId": "ce5ee141-7fc7-4882-c59e-77465fbc3bc3"
      },
      "execution_count": 38,
      "outputs": [
        {
          "output_type": "execute_result",
          "data": {
            "text/plain": [
              "0    35021\n",
              "1    34979\n",
              "Name: cardiovascular_disease, dtype: int64"
            ]
          },
          "metadata": {},
          "execution_count": 38
        }
      ]
    },
    {
      "cell_type": "code",
      "source": [
        "df.groupby(['gender','cardiovascular_disease']).size().unstack().plot.barh(figsize=(10,8))\n",
        "plt.show()"
      ],
      "metadata": {
        "colab": {
          "base_uri": "https://localhost:8080/",
          "height": 483
        },
        "id": "VeynHyyNO8Af",
        "outputId": "dc33f71b-5969-47a6-b6d6-3562fe2b9c70"
      },
      "execution_count": 39,
      "outputs": [
        {
          "output_type": "display_data",
          "data": {
            "text/plain": [
              "<Figure size 720x576 with 1 Axes>"
            ],
            "image/png": "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\n"
          },
          "metadata": {
            "needs_background": "light"
          }
        }
      ]
    },
    {
      "cell_type": "code",
      "source": [
        "df.groupby(['smoke','cardiovascular_disease']).size().unstack().plot.barh(figsize=(10,8))\n",
        "plt.show()"
      ],
      "metadata": {
        "colab": {
          "base_uri": "https://localhost:8080/",
          "height": 483
        },
        "id": "BADMo-LAQaKa",
        "outputId": "a7bd462b-d380-4fde-95b4-662fe448162a"
      },
      "execution_count": 41,
      "outputs": [
        {
          "output_type": "display_data",
          "data": {
            "text/plain": [
              "<Figure size 720x576 with 1 Axes>"
            ],
            "image/png": "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\n"
          },
          "metadata": {
            "needs_background": "light"
          }
        }
      ]
    },
    {
      "cell_type": "code",
      "source": [
        "#Check for missing values in the dataset\n",
        "df.isnull().sum()"
      ],
      "metadata": {
        "colab": {
          "base_uri": "https://localhost:8080/"
        },
        "id": "5oWIIHLNQphl",
        "outputId": "b8ecd191-ddfe-4916-eb86-8314afcf16ff"
      },
      "execution_count": 42,
      "outputs": [
        {
          "output_type": "execute_result",
          "data": {
            "text/plain": [
              "id                        0\n",
              "age                       0\n",
              "gender                    0\n",
              "height                    0\n",
              "weight                    0\n",
              "systolic_bp               0\n",
              "diastolic_bp              0\n",
              "cholesterol               0\n",
              "glucose                   0\n",
              "smoke                     0\n",
              "alcohol                   0\n",
              "physical_activity         0\n",
              "cardiovascular_disease    0\n",
              "dtype: int64"
            ]
          },
          "metadata": {},
          "execution_count": 42
        }
      ]
    },
    {
      "cell_type": "code",
      "source": [
        "#Separating the label of the dataset prior to processing\n",
        "label = df.cardiovascular_disease\n",
        "df.drop(['cardiovascular_disease'], axis=1)\n",
        "\n",
        "#Creating a pipeline to handle the transformation of both categorical and scaling numerical inputs at the same time\n",
        "num_pipeline = Pipeline([('std_scaler', StandardScaler()),\n",
        " ])\n",
        "X_num = df[['age','weight','height','cholesterol','glucose','diastolic_bp','systolic_bp']]\n",
        "num_attribs = list(X_num)\n",
        "cat_attribs = [ 'gender', 'smoke', 'alcohol','physical_activity']\n",
        "full_pipeline = ColumnTransformer([\n",
        " ('num', num_pipeline, num_attribs),\n",
        " ('cat', OneHotEncoder(), cat_attribs),\n",
        " ])\n",
        "df_prepared = full_pipeline.fit_transform(df)"
      ],
      "metadata": {
        "id": "HB9X-2dXQpvm"
      },
      "execution_count": 43,
      "outputs": []
    },
    {
      "cell_type": "markdown",
      "source": [
        "##Modelling\n",
        "\n",
        "###Splitting the data into a shuffled training and test split"
      ],
      "metadata": {
        "id": "zo4erbh2FRf6"
      }
    },
    {
      "cell_type": "code",
      "source": [
        "X_train, X_test, y_train, y_test = train_test_split(df_prepared, label, test_size=0.2, random_state=2)"
      ],
      "metadata": {
        "id": "0PVox6sVRrXz"
      },
      "execution_count": 44,
      "outputs": []
    },
    {
      "cell_type": "code",
      "source": [
        "model = RandomForestClassifier()\n",
        "##Obtain the best training parameters from a subset of hyperparameters before building a model\n",
        "param_grid=[{'n_estimators':[50, 100, 150, 200], 'max_features':[2, 4, 6, 8]}]\n",
        "grid_search = GridSearchCV(model, param_grid,cv=5, scoring='balanced_accuracy', return_train_score=True)\n",
        "grid_search.fit(X_train, y_train)"
      ],
      "metadata": {
        "colab": {
          "base_uri": "https://localhost:8080/"
        },
        "id": "B3orSMQIRrkr",
        "outputId": "ccbd9ba9-2a4c-4463-b558-09ec2dd4e55a"
      },
      "execution_count": 45,
      "outputs": [
        {
          "output_type": "execute_result",
          "data": {
            "text/plain": [
              "GridSearchCV(cv=5, estimator=RandomForestClassifier(),\n",
              "             param_grid=[{'max_features': [2, 4, 6, 8],\n",
              "                          'n_estimators': [50, 100, 150, 200]}],\n",
              "             return_train_score=True, scoring='balanced_accuracy')"
            ]
          },
          "metadata": {},
          "execution_count": 45
        }
      ]
    },
    {
      "cell_type": "code",
      "source": [
        "final_model = grid_search.best_estimator_\n",
        "final_model"
      ],
      "metadata": {
        "colab": {
          "base_uri": "https://localhost:8080/"
        },
        "id": "XR5BVam_RuGk",
        "outputId": "b3de6d43-efae-4335-ccbb-96a5504c1d41"
      },
      "execution_count": 46,
      "outputs": [
        {
          "output_type": "execute_result",
          "data": {
            "text/plain": [
              "RandomForestClassifier(max_features=4, n_estimators=200)"
            ]
          },
          "metadata": {},
          "execution_count": 46
        }
      ]
    },
    {
      "cell_type": "markdown",
      "source": [
        "##Evaluation"
      ],
      "metadata": {
        "id": "PDeYSWE1FRc9"
      }
    },
    {
      "cell_type": "code",
      "source": [
        "#Evaluating the model on the test set\n",
        "final_predictions = final_model.predict(X_test)"
      ],
      "metadata": {
        "id": "m-57xq2NR6Oe"
      },
      "execution_count": 47,
      "outputs": []
    },
    {
      "cell_type": "code",
      "source": [
        "confusion_matrix(y_test,final_predictions)"
      ],
      "metadata": {
        "colab": {
          "base_uri": "https://localhost:8080/"
        },
        "id": "PUi5w2oyR-GG",
        "outputId": "d40dbf5c-953b-4487-cd4f-a81621662a45"
      },
      "execution_count": 48,
      "outputs": [
        {
          "output_type": "execute_result",
          "data": {
            "text/plain": [
              "array([[5005, 2024],\n",
              "       [2064, 4907]])"
            ]
          },
          "metadata": {},
          "execution_count": 48
        }
      ]
    },
    {
      "cell_type": "code",
      "source": [
        "print(classification_report(y_test, final_predictions, labels=['0', '1']))"
      ],
      "metadata": {
        "colab": {
          "base_uri": "https://localhost:8080/"
        },
        "id": "ScrYHeAhR6xd",
        "outputId": "2155ae7e-275d-49d0-d6b7-6b7e8713ec66"
      },
      "execution_count": 49,
      "outputs": [
        {
          "output_type": "stream",
          "name": "stdout",
          "text": [
            "              precision    recall  f1-score   support\n",
            "\n",
            "           0       0.71      0.71      0.71      7029\n",
            "           1       0.71      0.70      0.71      6971\n",
            "\n",
            "    accuracy                           0.71     14000\n",
            "   macro avg       0.71      0.71      0.71     14000\n",
            "weighted avg       0.71      0.71      0.71     14000\n",
            "\n"
          ]
        }
      ]
    },
    {
      "cell_type": "markdown",
      "source": [
        "##Conclusion\n",
        "The model had a good precision, recall and f1 score of 71%.  "
      ],
      "metadata": {
        "id": "k38a0SmkFRaB"
      }
    },
    {
      "cell_type": "markdown",
      "source": [
        "##Author\n",
        "\n",
        "Anthony Ukwenya"
      ],
      "metadata": {
        "id": "6pytQFEuFRXH"
      }
    }
  ]
}
